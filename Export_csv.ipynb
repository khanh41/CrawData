{
  "nbformat": 4,
  "nbformat_minor": 0,
  "metadata": {
    "colab": {
      "name": "Export_csv",
      "provenance": [],
      "collapsed_sections": []
    },
    "kernelspec": {
      "name": "python3",
      "display_name": "Python 3"
    }
  },
  "cells": [
    {
      "cell_type": "code",
      "metadata": {
        "id": "mm5fdfEsyolZ",
        "colab_type": "code",
        "colab": {
          "base_uri": "https://localhost:8080/",
          "height": 203
        },
        "outputId": "9f56356d-b154-4b02-ec1d-6f1faf923dee"
      },
      "source": [
        "!pip install ibm_db "
      ],
      "execution_count": 1,
      "outputs": [
        {
          "output_type": "stream",
          "text": [
            "Collecting ibm_db\n",
            "\u001b[?25l  Downloading https://files.pythonhosted.org/packages/6f/4e/48bf113d4f14b20a5008ea9f7784654041d8f7730c1081b370f569d80c93/ibm_db-3.0.2.tar.gz (718kB)\n",
            "\r\u001b[K     |▌                               | 10kB 25.0MB/s eta 0:00:01\r\u001b[K     |█                               | 20kB 6.3MB/s eta 0:00:01\r\u001b[K     |█▍                              | 30kB 7.4MB/s eta 0:00:01\r\u001b[K     |█▉                              | 40kB 7.9MB/s eta 0:00:01\r\u001b[K     |██▎                             | 51kB 6.9MB/s eta 0:00:01\r\u001b[K     |██▊                             | 61kB 7.3MB/s eta 0:00:01\r\u001b[K     |███▏                            | 71kB 8.2MB/s eta 0:00:01\r\u001b[K     |███▋                            | 81kB 8.8MB/s eta 0:00:01\r\u001b[K     |████                            | 92kB 8.3MB/s eta 0:00:01\r\u001b[K     |████▋                           | 102kB 8.7MB/s eta 0:00:01\r\u001b[K     |█████                           | 112kB 8.7MB/s eta 0:00:01\r\u001b[K     |█████▌                          | 122kB 8.7MB/s eta 0:00:01\r\u001b[K     |██████                          | 133kB 8.7MB/s eta 0:00:01\r\u001b[K     |██████▍                         | 143kB 8.7MB/s eta 0:00:01\r\u001b[K     |██████▉                         | 153kB 8.7MB/s eta 0:00:01\r\u001b[K     |███████▎                        | 163kB 8.7MB/s eta 0:00:01\r\u001b[K     |███████▊                        | 174kB 8.7MB/s eta 0:00:01\r\u001b[K     |████████▏                       | 184kB 8.7MB/s eta 0:00:01\r\u001b[K     |████████▋                       | 194kB 8.7MB/s eta 0:00:01\r\u001b[K     |█████████▏                      | 204kB 8.7MB/s eta 0:00:01\r\u001b[K     |█████████▋                      | 215kB 8.7MB/s eta 0:00:01\r\u001b[K     |██████████                      | 225kB 8.7MB/s eta 0:00:01\r\u001b[K     |██████████▌                     | 235kB 8.7MB/s eta 0:00:01\r\u001b[K     |███████████                     | 245kB 8.7MB/s eta 0:00:01\r\u001b[K     |███████████▍                    | 256kB 8.7MB/s eta 0:00:01\r\u001b[K     |███████████▉                    | 266kB 8.7MB/s eta 0:00:01\r\u001b[K     |████████████▎                   | 276kB 8.7MB/s eta 0:00:01\r\u001b[K     |████████████▊                   | 286kB 8.7MB/s eta 0:00:01\r\u001b[K     |█████████████▎                  | 296kB 8.7MB/s eta 0:00:01\r\u001b[K     |█████████████▊                  | 307kB 8.7MB/s eta 0:00:01\r\u001b[K     |██████████████▏                 | 317kB 8.7MB/s eta 0:00:01\r\u001b[K     |██████████████▋                 | 327kB 8.7MB/s eta 0:00:01\r\u001b[K     |███████████████                 | 337kB 8.7MB/s eta 0:00:01\r\u001b[K     |███████████████▌                | 348kB 8.7MB/s eta 0:00:01\r\u001b[K     |████████████████                | 358kB 8.7MB/s eta 0:00:01\r\u001b[K     |████████████████▍               | 368kB 8.7MB/s eta 0:00:01\r\u001b[K     |████████████████▉               | 378kB 8.7MB/s eta 0:00:01\r\u001b[K     |█████████████████▎              | 389kB 8.7MB/s eta 0:00:01\r\u001b[K     |█████████████████▉              | 399kB 8.7MB/s eta 0:00:01\r\u001b[K     |██████████████████▎             | 409kB 8.7MB/s eta 0:00:01\r\u001b[K     |██████████████████▊             | 419kB 8.7MB/s eta 0:00:01\r\u001b[K     |███████████████████▏            | 430kB 8.7MB/s eta 0:00:01\r\u001b[K     |███████████████████▋            | 440kB 8.7MB/s eta 0:00:01\r\u001b[K     |████████████████████            | 450kB 8.7MB/s eta 0:00:01\r\u001b[K     |████████████████████▌           | 460kB 8.7MB/s eta 0:00:01\r\u001b[K     |█████████████████████           | 471kB 8.7MB/s eta 0:00:01\r\u001b[K     |█████████████████████▍          | 481kB 8.7MB/s eta 0:00:01\r\u001b[K     |██████████████████████          | 491kB 8.7MB/s eta 0:00:01\r\u001b[K     |██████████████████████▍         | 501kB 8.7MB/s eta 0:00:01\r\u001b[K     |██████████████████████▉         | 512kB 8.7MB/s eta 0:00:01\r\u001b[K     |███████████████████████▎        | 522kB 8.7MB/s eta 0:00:01\r\u001b[K     |███████████████████████▊        | 532kB 8.7MB/s eta 0:00:01\r\u001b[K     |████████████████████████▏       | 542kB 8.7MB/s eta 0:00:01\r\u001b[K     |████████████████████████▋       | 552kB 8.7MB/s eta 0:00:01\r\u001b[K     |█████████████████████████       | 563kB 8.7MB/s eta 0:00:01\r\u001b[K     |█████████████████████████▌      | 573kB 8.7MB/s eta 0:00:01\r\u001b[K     |██████████████████████████      | 583kB 8.7MB/s eta 0:00:01\r\u001b[K     |██████████████████████████▌     | 593kB 8.7MB/s eta 0:00:01\r\u001b[K     |███████████████████████████     | 604kB 8.7MB/s eta 0:00:01\r\u001b[K     |███████████████████████████▍    | 614kB 8.7MB/s eta 0:00:01\r\u001b[K     |███████████████████████████▉    | 624kB 8.7MB/s eta 0:00:01\r\u001b[K     |████████████████████████████▎   | 634kB 8.7MB/s eta 0:00:01\r\u001b[K     |████████████████████████████▊   | 645kB 8.7MB/s eta 0:00:01\r\u001b[K     |█████████████████████████████▏  | 655kB 8.7MB/s eta 0:00:01\r\u001b[K     |█████████████████████████████▋  | 665kB 8.7MB/s eta 0:00:01\r\u001b[K     |██████████████████████████████  | 675kB 8.7MB/s eta 0:00:01\r\u001b[K     |██████████████████████████████▋ | 686kB 8.7MB/s eta 0:00:01\r\u001b[K     |███████████████████████████████ | 696kB 8.7MB/s eta 0:00:01\r\u001b[K     |███████████████████████████████▌| 706kB 8.7MB/s eta 0:00:01\r\u001b[K     |████████████████████████████████| 716kB 8.7MB/s eta 0:00:01\r\u001b[K     |████████████████████████████████| 727kB 8.7MB/s \n",
            "\u001b[?25hBuilding wheels for collected packages: ibm-db\n",
            "  Building wheel for ibm-db (setup.py) ... \u001b[?25l\u001b[?25hdone\n",
            "  Created wheel for ibm-db: filename=ibm_db-3.0.2-cp36-cp36m-linux_x86_64.whl size=38977335 sha256=506517662a4d3090364c2a2cc0df129a437cb6315d1ac6882cdb318d62f8456a\n",
            "  Stored in directory: /root/.cache/pip/wheels/84/64/42/10b217b545e8085b72160632c61bfa0909f661dad89326a956\n",
            "Successfully built ibm-db\n",
            "Installing collected packages: ibm-db\n",
            "Successfully installed ibm-db-3.0.2\n"
          ],
          "name": "stdout"
        }
      ]
    },
    {
      "cell_type": "code",
      "metadata": {
        "id": "W9qOCX-S1Nkq",
        "colab_type": "code",
        "colab": {}
      },
      "source": [
        "import ibm_db"
      ],
      "execution_count": 5,
      "outputs": []
    },
    {
      "cell_type": "code",
      "metadata": {
        "id": "LV-vpXYu6V8G",
        "colab_type": "code",
        "colab": {}
      },
      "source": [
        "conn = ibm_db.connect(\"DATABASE=BLUDB;HOSTNAME=dashdb-txn-sbox-yp-dal09-10.services.dal.bluemix.net;PORT=50000;PROTOCOL=TCPIP;UID=xbr09096;PWD=q3p+g7szbpg06pm7\",\"\",\"\")"
      ],
      "execution_count": 6,
      "outputs": []
    },
    {
      "cell_type": "code",
      "metadata": {
        "id": "fCzPdj87KFKy",
        "colab_type": "code",
        "colab": {}
      },
      "source": [
        "import pandas as pd"
      ],
      "execution_count": 8,
      "outputs": []
    },
    {
      "cell_type": "code",
      "metadata": {
        "id": "RcKGY4vF6xnB",
        "colab_type": "code",
        "colab": {}
      },
      "source": [
        "selectStmt = ibm_db.exec_immediate(conn,\"select * from Books\")\n",
        "data = {\n",
        "    'ID_BOOK': [],\n",
        "    'LINK_BOOK': [],\n",
        "    'TITLE_BOOK': [],\n",
        "    'AUTHOR_BOOK': [],\n",
        "    'RATE_BOOK': [],\n",
        "    'DESCRIPTION_BOOK': [],\n",
        "}\n",
        "while ibm_db.fetch_row(selectStmt):\n",
        "  data['ID_BOOK'].append(ibm_db.result(selectStmt,0))\n",
        "  data['LINK_BOOK'].append(ibm_db.result(selectStmt,1))\n",
        "  data['TITLE_BOOK'].append(ibm_db.result(selectStmt,2))\n",
        "  data['AUTHOR_BOOK'].append(ibm_db.result(selectStmt,3))\n",
        "  data['RATE_BOOK'].append(ibm_db.result(selectStmt,4))\n",
        "  data['DESCRIPTION_BOOK'].append(ibm_db.result(selectStmt,5))\n",
        "\n",
        "pd.DataFrame(data).to_csv('Books.csv',index=False)"
      ],
      "execution_count": 9,
      "outputs": []
    },
    {
      "cell_type": "code",
      "metadata": {
        "id": "GE1t0MXsulcR",
        "colab_type": "code",
        "colab": {}
      },
      "source": [
        "selectStmt = ibm_db.exec_immediate(conn,\"select * from Reviews_book\")\n",
        "data = {\n",
        "    'ID_COMMENT': [],\n",
        "    'ID_BOOK': [],\n",
        "    'ID_USER': [],\n",
        "    'RATE': [],\n",
        "    'DATE_POST': [],\n",
        "    'REVIEW_CONTENT': [],\n",
        "}\n",
        "while ibm_db.fetch_row(selectStmt):\n",
        "  data['ID_COMMENT'].append(ibm_db.result(selectStmt,0))\n",
        "  data['ID_BOOK'].append(ibm_db.result(selectStmt,1))\n",
        "  data['ID_USER'].append(ibm_db.result(selectStmt,2))\n",
        "  data['RATE'].append(ibm_db.result(selectStmt,3))\n",
        "  data['DATE_POST'].append(ibm_db.result(selectStmt,4))\n",
        "  data['REVIEW_CONTENT'].append(ibm_db.result(selectStmt,5))\n",
        "\n",
        "pd.DataFrame(data).to_csv('Reviews_Book.csv',index=False)"
      ],
      "execution_count": null,
      "outputs": []
    },
    {
      "cell_type": "code",
      "metadata": {
        "id": "7pGhi-TWLJtC",
        "colab_type": "code",
        "colab": {}
      },
      "source": [
        "selectStmt = ibm_db.exec_immediate(conn,\"select * from LIST_COMMENTS\")\n",
        "data = {\n",
        "    'ID_COMMENT': [],\n",
        "    'COMMENTS_CONTENT': [],\n",
        "}\n",
        "while ibm_db.fetch_row(selectStmt):\n",
        "  data['ID_COMMENT'].append(ibm_db.result(selectStmt,0))\n",
        "  data['COMMENTS_CONTENT'].append(ibm_db.result(selectStmt,1))\n",
        "\n",
        "ex = pd.DataFrame(data)\n",
        "ex.to_csv('List_Comments.csv',index=False)"
      ],
      "execution_count": null,
      "outputs": []
    },
    {
      "cell_type": "code",
      "metadata": {
        "id": "LNy03m766S5U",
        "colab_type": "code",
        "colab": {}
      },
      "source": [
        "selectStmt = ibm_db.exec_immediate(conn,\"select * from USERS\")\n",
        "data = {\n",
        "    'ID_USER': [],\n",
        "    'NAME_USER': [],\n",
        "}\n",
        "while ibm_db.fetch_row(selectStmt):\n",
        "  data['ID_USER'].append(ibm_db.result(selectStmt,0))\n",
        "  data['NAME_USER'].append(ibm_db.result(selectStmt,1))\n",
        "\n",
        "ex = pd.DataFrame(data)\n",
        "ex.to_csv('Users.csv',index=False)"
      ],
      "execution_count": null,
      "outputs": []
    },
    {
      "cell_type": "code",
      "metadata": {
        "id": "fFiGARybvXz5",
        "colab_type": "code",
        "colab": {}
      },
      "source": [
        ""
      ],
      "execution_count": null,
      "outputs": []
    }
  ]
}