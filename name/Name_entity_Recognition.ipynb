{
  "nbformat": 4,
  "nbformat_minor": 0,
  "metadata": {
    "colab": {
      "name": "Untitled12.ipynb",
      "provenance": [],
      "collapsed_sections": []
    },
    "kernelspec": {
      "name": "python3",
      "display_name": "Python 3"
    }
  },
  "cells": [
    {
      "cell_type": "markdown",
      "metadata": {
        "id": "98lYeiEA__Qi",
        "colab_type": "text"
      },
      "source": [
        "#Install Lib"
      ]
    },
    {
      "cell_type": "code",
      "metadata": {
        "id": "QN9URjJS6L3H",
        "colab_type": "code",
        "colab": {
          "base_uri": "https://localhost:8080/",
          "height": 238
        },
        "outputId": "1771f095-a1ad-46c7-cccc-64c46cdb4978"
      },
      "source": [
        "# Installl Db2\n",
        "!pip install ibm_db\n",
        "# Install Spacy to NER_EN\n",
        "'''\n",
        "!pip install spacy\n",
        "# Install Spacy to NER_VI\n",
        "!pip install underthesea\n",
        "# Install Spacy to NER_VI\n",
        "!pip3 install vncorenlp\n",
        "!git clone https://github.com/vncorenlp/VnCoreNLP.git\n",
        "'''"
      ],
      "execution_count": 3,
      "outputs": [
        {
          "output_type": "stream",
          "text": [
            "Collecting ibm_db\n",
            "\u001b[?25l  Downloading https://files.pythonhosted.org/packages/6f/4e/48bf113d4f14b20a5008ea9f7784654041d8f7730c1081b370f569d80c93/ibm_db-3.0.2.tar.gz (718kB)\n",
            "\u001b[K     |████████████████████████████████| 727kB 2.8MB/s \n",
            "\u001b[?25hBuilding wheels for collected packages: ibm-db\n",
            "  Building wheel for ibm-db (setup.py) ... \u001b[?25l\u001b[?25hdone\n",
            "  Created wheel for ibm-db: filename=ibm_db-3.0.2-cp36-cp36m-linux_x86_64.whl size=38977341 sha256=77f338e57efc11cf36adb4e6ebcc7119a1db9b101a8a38f07e6a3732c07f8e0f\n",
            "  Stored in directory: /root/.cache/pip/wheels/84/64/42/10b217b545e8085b72160632c61bfa0909f661dad89326a956\n",
            "Successfully built ibm-db\n",
            "Installing collected packages: ibm-db\n",
            "Successfully installed ibm-db-3.0.2\n"
          ],
          "name": "stdout"
        },
        {
          "output_type": "execute_result",
          "data": {
            "application/vnd.google.colaboratory.intrinsic+json": {
              "type": "string"
            },
            "text/plain": [
              "'\\n!pip install spacy\\n# Install Spacy to NER_VI\\n!pip install underthesea\\n# Install Spacy to NER_VI\\n!pip3 install vncorenlp\\n!git clone https://github.com/vncorenlp/VnCoreNLP.git\\n'"
            ]
          },
          "metadata": {
            "tags": []
          },
          "execution_count": 3
        }
      ]
    },
    {
      "cell_type": "markdown",
      "metadata": {
        "id": "HRhqMCwaAG1A",
        "colab_type": "text"
      },
      "source": [
        "#Connect Database and import lib"
      ]
    },
    {
      "cell_type": "code",
      "metadata": {
        "id": "T1SgL1I26PIZ",
        "colab_type": "code",
        "colab": {}
      },
      "source": [
        "from vncorenlp import VnCoreNLP\n",
        "from underthesea import ner\n",
        "import ibm_db"
      ],
      "execution_count": 4,
      "outputs": []
    },
    {
      "cell_type": "code",
      "metadata": {
        "id": "bl1KSZuOmmqT",
        "colab_type": "code",
        "colab": {}
      },
      "source": [
        "conn = ibm_db.connect(\"DATABASE=BLUDB;HOSTNAME=dashdb-txn-sbox-yp-dal09-10.services.dal.bluemix.net;PORT=50000;PROTOCOL=TCPIP;UID=xbr09096;PWD=q3p+g7szbpg06pm7\",\"\",\"\")"
      ],
      "execution_count": 5,
      "outputs": []
    },
    {
      "cell_type": "markdown",
      "metadata": {
        "id": "fdZbQTQvARq0",
        "colab_type": "text"
      },
      "source": [
        "#Get comments from Database"
      ]
    },
    {
      "cell_type": "code",
      "metadata": {
        "id": "AujJn9q1ms2b",
        "colab_type": "code",
        "colab": {}
      },
      "source": [
        "def get_value_from_database(table_name, index):\n",
        "  selectStmt = ibm_db.exec_immediate(conn,\"select * from \" + table_name)\n",
        "  list_comment = []\n",
        "  while ibm_db.fetch_row(selectStmt):\n",
        "    text = ibm_db.result(selectStmt,index)\n",
        "    list_comment.append(text.replace('.',' . '))\n",
        "  return list_comment"
      ],
      "execution_count": null,
      "outputs": []
    },
    {
      "cell_type": "code",
      "metadata": {
        "id": "WFGflwaUA4e3",
        "colab_type": "code",
        "colab": {}
      },
      "source": [
        "# Table Reviews_Book_VI or Reviews_Book_EN, index 5: Review_Content\n",
        "# Table List_comments_VI or List_comments_VI, index 1: Comments_Content\n",
        "list_comment_VI = get_value_from_database('Reviews_Book_VI',5) + get_value_from_database('List_comments_VI',1)\n",
        "list_comment_EN = get_value_from_database('Reviews_Book_EN',5) + get_value_from_database('List_comments_EN',1)"
      ],
      "execution_count": null,
      "outputs": []
    },
    {
      "cell_type": "markdown",
      "metadata": {
        "id": "Z7pm90huAatk",
        "colab_type": "text"
      },
      "source": [
        "#Name entity recognition with underthesea and VnCoreNLP library (BERT_VI)"
      ]
    },
    {
      "cell_type": "code",
      "metadata": {
        "id": "mSL3ROas6ZcX",
        "colab_type": "code",
        "colab": {
          "base_uri": "https://localhost:8080/",
          "height": 50
        },
        "outputId": "55136fcf-c359-405b-fe19-5729a2241fc1"
      },
      "source": [
        "def named_entity_recognition_VI(list_sentence):\n",
        "  name = []\n",
        "  for sentence in list_sentence:\n",
        "    ners = ner(sentence)\n",
        "    for i in range((len(ners))):\n",
        "      if ners[i][1] == 'Np':\n",
        "        name.append(ners[i][0])\n",
        "\n",
        "    try:\n",
        "      ners = annotator.ner(sentence)\n",
        "    except:      \n",
        "      print(\"load_VnCoreNLP\")\n",
        "      # To perform word segmentation, POS tagging and then NER\n",
        "      annotator = VnCoreNLP(\"VnCoreNLP/VnCoreNLP-1.1.1.jar\", annotators=\"wseg,pos,ner\", max_heap_size='-Xmx2g')\n",
        "      ners = annotator.ner(sentence)\n",
        "\n",
        "    for i in ners:\n",
        "      for j in i:\n",
        "        if j[1] != 'O':\n",
        "          name.append(j[0].replace('_',' '))\n",
        "  \n",
        "  return set(name)\n",
        "\n",
        "test_sentences = ['Tác phẩm của bác Nguyễn Nhật Ánh thật có giá trị nhân văn! Nó Nói về quê hương Quảng Nam của mình thật đẹp!','Anh Ngạn trong \"Mắt biếc\" đúng là một kẻ si tình, cứ mãi yêu hà lan']\n",
        "print(named_entity_recognition_VI(test_sentences))"
      ],
      "execution_count": null,
      "outputs": [
        {
          "output_type": "stream",
          "text": [
            "load_VnCoreNLP\n",
            "{'Quảng Nam', 'Nguyễn Nhật Ánh', 'hà lan', 'Ngạn'}\n"
          ],
          "name": "stdout"
        }
      ]
    },
    {
      "cell_type": "code",
      "metadata": {
        "id": "5KxArZlCR1jC",
        "colab_type": "code",
        "colab": {
          "base_uri": "https://localhost:8080/",
          "height": 33
        },
        "outputId": "c3f56412-c3ad-4519-9281-c2f53b259ece"
      },
      "source": [
        "list_comment_ner_VI = named_entity_recognition_VI(list_comment_VI)"
      ],
      "execution_count": null,
      "outputs": [
        {
          "output_type": "stream",
          "text": [
            "load_VnCoreNLP\n"
          ],
          "name": "stdout"
        }
      ]
    },
    {
      "cell_type": "markdown",
      "metadata": {
        "id": "KrWUkkqyAin8",
        "colab_type": "text"
      },
      "source": [
        "#Name entity recognition using Spacy library (BERT_EN)"
      ]
    },
    {
      "cell_type": "code",
      "metadata": {
        "id": "xeu-0atHUm23",
        "colab_type": "code",
        "colab": {}
      },
      "source": [
        "import spacy"
      ],
      "execution_count": null,
      "outputs": []
    },
    {
      "cell_type": "code",
      "metadata": {
        "id": "kXUmH237UsR7",
        "colab_type": "code",
        "colab": {}
      },
      "source": [
        "nlp = spacy.load(\"en_core_web_sm\")"
      ],
      "execution_count": null,
      "outputs": []
    },
    {
      "cell_type": "code",
      "metadata": {
        "id": "brUERghedolI",
        "colab_type": "code",
        "colab": {
          "base_uri": "https://localhost:8080/",
          "height": 267
        },
        "outputId": "8ffc3570-6d2c-4a8f-9cf8-f29250ce9737"
      },
      "source": [
        "key = []\n",
        "for i in list_comment_EN:\n",
        "  doc = nlp(i)\n",
        "  for entity in doc.ents:\n",
        "    key.append(entity.label_)\n",
        "\n",
        "key = set(key)\n",
        "key"
      ],
      "execution_count": null,
      "outputs": [
        {
          "output_type": "execute_result",
          "data": {
            "text/plain": [
              "{'CARDINAL',\n",
              " 'DATE',\n",
              " 'EVENT',\n",
              " 'FAC',\n",
              " 'GPE',\n",
              " 'LANGUAGE',\n",
              " 'LAW',\n",
              " 'LOC',\n",
              " 'NORP',\n",
              " 'ORDINAL',\n",
              " 'ORG',\n",
              " 'PERSON',\n",
              " 'PRODUCT',\n",
              " 'TIME',\n",
              " 'WORK_OF_ART'}"
            ]
          },
          "metadata": {
            "tags": []
          },
          "execution_count": 11
        }
      ]
    },
    {
      "cell_type": "code",
      "metadata": {
        "id": "6ck9A9qDUuhb",
        "colab_type": "code",
        "colab": {}
      },
      "source": [
        "df = {}\n",
        "for i in key:\n",
        "  df[i] = []\n",
        "\n",
        "for i in list_comment_EN:\n",
        "  doc = nlp(i)\n",
        "  for entity in doc.ents:\n",
        "    df[entity.label_].append(entity.text)"
      ],
      "execution_count": null,
      "outputs": []
    },
    {
      "cell_type": "code",
      "metadata": {
        "id": "yT0-Zv00fPl3",
        "colab_type": "code",
        "colab": {}
      },
      "source": [
        "df"
      ],
      "execution_count": null,
      "outputs": []
    },
    {
      "cell_type": "code",
      "metadata": {
        "id": "ZCrxebzjd_PO",
        "colab_type": "code",
        "colab": {
          "base_uri": "https://localhost:8080/",
          "height": 287
        },
        "outputId": "4b9685a0-06eb-43fe-f7e5-5503fb60e758"
      },
      "source": [
        "values = []\n",
        "for key, value in df.items():\n",
        "  print(key,value)"
      ],
      "execution_count": null,
      "outputs": [
        {
          "output_type": "stream",
          "text": [
            "PRODUCT ['REAL', 'vật và', \"Phuc'grandfather\", 'Besides', 'Nhi - one', 'lớn cũng', 'cần những câu', 'lớn cho trọn vẹn', 'lớn cho trọn', 'Lucky Luke', 'sao lun']\n",
            "ORG ['Nguyễn Nhật Ánh', 'Nguyễn Nhật Ánh', 'Inner Child', 'TNA', 'TNA', 'Anyways', 'SIMPLE', 'Clothes', 'Nguyen Nhat Anh', 'Ngạn', 'Nguyễn Nhật Ánh', 'Trà', 'Nguyễn Nhật Ánh', 'Ngạn', 'Nguyen Nhat Anh', 'Ngạn', 'Nguyễn Nhật Ánh', 'Recommend', 'Sad Simple Romance', 'Buồn', 'Thảm', 'Nguyan Nhat Anh', 'Có', 'lời', 'của lòng', 'dư vị ngọt', 'Childhood', 'Cuội', 'NẮNG MƯA LÀ BỆNH CỦA TRỜITƯƠNG', 'Uhm', 'Nguyễn Nhật Ánh', 'Sài Gòn', 'Nguyễn Nhật Ánh', 'Miền', \"Nguyễn Nhật Ánh's\", 'Ngay Xua Co', 'Vinh ( Vinh Com', 'Everyone', 'Phuc, Vinh', 'Nguyễn Nhật Ánh', 'Tuổi', 'Anh', 'Anh', 'Dang & Tham', 'Betrayal', 'Nguyen Nhat Anh', 'Nice', 'humourous!it', 'Anh', 'Anh', 'Mui, Ti, Hai', 'Hiep', 'Hơi', 'un un gô', 'buồn', 'câu', 'ngày', 'được đưa vào', 'Nguyễn Nhật Ánh', 'chính người', 'realize1', 'Characteristics', 'N . N', 'là siêu chợ', 'Nguyen Nhat Anh', 'Nguyễn Nhật Ánh', 'người', 'người', 'hem thích', 'này', 'Nhưng', 'Ngạn', 'Ngạn', 'Nguyễn Nhật Ánh', 'Trà', 'Nguyễn Nhật Ánh', 'Ngạn', 'Huy', 'Đọc hết mấy', 'lời', 'Yahoo']\n",
            "GPE ['Vietnam', 'Vietnam', 'Vietnam', 'Vietnam', 'Japan', 'Vietnam', 'Vietnam', 'U .', 'Vietnam', 'Hollywood', 'Vietnam', 'Ho Chi Minh', 'Vietnam', 'Vietnam', 'Vietnam', 'Stirs', 'Dũng', 'Vietnam village', 'Tra Long', 'Knowing', 'Tra Long', 'Vietnam', 'Vinh', 'Vinh', 'Vinh', 'Vinh', 'Vinh', 'Vinh', 'Vinh', 'Viet Nam', \"He'an\", 'Nhỏ Hạnh', 'Tôi', 'hjjjjjjjjjjjjjjjjjjjjjjjjjjjjjj', 'America', 'Vietnam', 'America', 'Thuong', 'Tai Khon', 'Thuong', 'Thuong', 'Thuong', 'Thuong', 'Thuong', 'Thuong', 'Thuong', 'Tai Khong', 'Thuong', 'Thuong', 'Thuong', 'Thuong', 'Thuong', 'Thuong', 'Thuong', 'Thuong', 'Thuong', 'Thuong', 'thế đó', 'Vietnam', 'quảng nam', 'Tiếp', 'Dũng', 'Hanoi', 'Vietnam']\n",
            "DATE ['about five or six years back', 'five year old', '8 years old', 'the age of eight', 'The year of being eight', 'today', 'the weeks', 'last year', 'yesterday', 'one day', 'years', 'days', 'last year', '8 years old', '8 years old', '8', '8 years old', 'the 60s', '70s', 'daily', '20 years later', 'many years', 'one day', 'this summer', '30 years', '2019', '15 years old', 'summer', '8 years', 'that day', 'yesterday', 'one day', 'yesterday', '10 years ago', '1975', 'the day', 'one day', 'today', 'One day', '15 years old', 'one year ago', 'this day', 'today', 'summer', 'Saturday', 'their last year', 'the summer', 'days', 'One day', 'long weeks', 'about the days', 'daily', 'yêu chuộng', '7 years old', 'present day', '2000', 'the 60s', '70s', 'nowaday', '3 chổ ngồi', '2012', 'the early 2000s']\n",
            "PERSON ['Nguyen Nhat Anh', 'Nguyen Nhat Anh', 'Inner Childs', 'Nguyen Nhat Anh', \"memories?I've\", \"Mark Twain's\", 'Kudos', 'Nguyen Nhat Anh', 'Sadness', 'William Naythons', 'Laugh', 'Nguyen Nhat Anh', 'Beto', 'Ngạn', 'Hà Lan', 'Ngạn', 'Ha Lan', 'Hà Lan', 'Hà Lan', 'Trà Long', 'Mắt', 'Ngan', 'Tra Long', 'Nguyen Nhat Anh', 'Ngan', 'Ha Lan', 'Ha Lan', 'Nguyen Nhat Anh', 'Tra Long', 'Ngan', 'Tra Long', 'Ngan', 'Nguyen Nhat Anh', 'Ngan', 'Ngan', 'Mat Biec', 'Tran Nghia', 'Ngan', 'kinda bizarre', 'Ngan', 'Ha Lan', 'Tra Long', 'Ngan', 'Lan', 'Ngan', 'Dung', 'Tra Long’s', 'Ngan', 'Nguyen Nhat Anh', 'Nguyen Nhat Anh', 'Ngan', 'Ngan', 'Ha Lan', 'Ngan', 'Ngan', 'Ha Lan', 'Depends', 'Ngan', 'Ngan', 'Ngan', 'Ha Lan', 'Nguyen Nhat Anh', 'Nguyen Nhat Anh', 'Ngan', 'Ha Lan', 'Ha Lan', 'Ha Lan', 'Tra Long', 'Hà Lan', 'Tan Vo', 'Minh Anh', 'mấy gì', 'mượt mà', 'chính cái', 'của cảnh', 'Để rồi', 'đọc qua một trang sách', 'hồn nhiên hay câu', 'xót xa về cảnh', 'lòng bạn đọc', 'Chắc', 'Tuong', 'Tuong', 'Uncle Dan', 'Sis Vinh', 'Man', 'Uncle Tam Tang', 'Nguyen Nhat', 'Tuong', 'Thieu', 'Tuong', 'Thang Long Citadel', 'kinda cliche', 'Thao Van', 'Van', 'Thu', 'Tieu Li', 'Nguyen Nhat Anh', \"Nguyen Nhat Anh's\", 'Nguyen Nhat Anh', 'Thien', 'Mat', 'Nguyen Nhat Anh', 'Vinh', 'Mắt', 'Duoi Tom', 'Mien', 'Mien', 'Mien', 'Phuc', 'Nguyen Nhat', 'Mien', 'Mien', 'Vinh', 'Mien', 'Mien', 'Mien', 'Mien', 'Mien', 'Mien', 'Vinh', 'Mien', 'Mien', 'Phuc', 'Phuc', 'Mien', 'Mien', 'Phuc', 'Mien', 'Mien', 'Evverybody', 'Phuc', 'Mien', \"Nguyen Nhat Anh's\", 'Nguyen Nhat Anh', \"Nguyen Nhat Anh's\", 'carefree-ness', 'Nguyen Nhat Anh', 'nhẹ nhàng', 'Tôi đọc', 'Kính Vạn Hoa', 'Quý Ròm', 'Tiểu Long', 'được khắc', 'nhiên qua ngòi bút của NNA', 'Mông Mơ', 'Gentle', 'Kinh Van Hoa', 'Khoi', 'Dang', 'Tham', 'Phan', 'Suku', 'Haili', 'Suku', 'Eme', 'Haili', 'Someone', \"Chu Anh's\", 'Chuan', 'Thuc', 'Cuc Huong', 'Loi', 'Uncle Anh', 'Mắt Biếc', 'Chuong', 'Chuong', 'Chuong', 'Chuong', 'Chuong', 'Anh', 'Anh', 'Ly', 'dreamy childhood', 'goodd btw', 'Bong Bong Len', 'Nguyen Nhat Anh', 'Nhi', 'Mum', 'Keo Keo', 'Lying', 'Tai Khon', \"Tai Khon's\", 'Nhi', 'Nhi', 'Nhi', 'Nhi', 'Tai Khon', 'Mum', 'Tai Khon', 'Mum', 'Mum', 'Tai Khon', 'Nhi', 'Nhi', 'Nguyen Nhat Anh', 'thật', 'một cách', 'nhiên và', 'hình như mình gặp', 'huống này đâu', 'không thể nhớ ra', 'Chuyện', 'Tôi chợt', 'nhận ra rằng', 'làm mát và thanh lọc', 'Tèo - a', 'Người Quảng đi ăn mì Quảng', 'ra cũng là chợ', 'thị', 'Quảng đi ăn mì Quảng', 'Thương', 'Làm', 'Quảng', 'anh xơi', 'quảng nam', 'quang nam', 'Harry Potter', 'Harry Potter', 'Harry Potter', 'Harry Potter', 'Cảm', 'Tiếp', 'Cảm', 'mình đọc', 'đó ngay khi nó mới ra rồi', 'đi tgia', 'mình có thể', 'của bạn', 'Mắt Biếc', 'trang FB của mình ko ạ?', 'của bạn', 'mình có thể', 'của bạn', 'Mắt Biếc để', 'trang FB của mình ko ạ?', 'của bạn', 'bạn cứ', 'mái bạn ạ .', 'Không có vấn đề gì hết đâu', 'Nếu', 'tên của mình nữa thì mình', 'sẽ rất vui', 'không thì', 'không sao hết đâu', 'Ngạn', 'Hà Lan', 'Ha Lan', 'Hà Lan', 'Hà Lan', 'Trà Long', 'Mắt', 'kính vạn hoa', 'mắt biết', 'truyện nào', 'buồn vui', 'Lucky Luke', 'Lucky Luke', 'haha', 'dành thời gian đọc', 'Junta', 'Haha', 'Bruce Lee', 'ra cũng là chợ']\n",
            "LANGUAGE ['English', 'Mandarin', 'English', 'English', 'English', 'English', 'English', 'English', 'English', 'English']\n",
            "TIME ['a good five minute', 'this evening', 'between 2-3 hours', 'afternoon', 'evening', 'minutes', 'one free afternoon', '2 hours', 'this moment', 'afternoon', '2 hours', '2 hour', 'evening', 'nights', 'evening', 'her evening', '3 hours', 'less than 2 hours']\n",
            "WORK_OF_ART ['The Man with Compound Eyes', 'The Little Prince', 'Totto-chan', 'Totto-chan:', 'Window', 'Children', 'To Read', 'The Notebook', 'Mat', 'Mat Biec', 'Mat Biec', 'Hi Tieu Li', 'Con chut gi de nho', 'Mắt', 'Phúc', 'Cho tôi xin 1 vé đi tuổi thơ', 'The Notebook']\n",
            "ORDINAL ['first', 'first', 'first', 'first', 'first', 'first', 'third', 'first', 'first', 'second', 'First', '2nd', 'second', 'first', 'first', 'first', 'first', 'first', 'first', 'first', 'First', 'sixteenth', 'first', 'first', 'First', 'first', 'first', '1st', 'first', 'second', '1st', 'first', 'first']\n",
            "LAW ['Nguyễn Nhật Ánh']\n",
            "LOC ['South', 'Asia', 's']\n",
            "FAC ['Inner Child', 'the Green Grass']\n",
            "CARDINAL ['one', 'one', 'four', 'only about 140', '3', 'Millions', '500', '3', '1', '3', '2', '2', '3', 'Only 86', '1', '154', 'one', 'one', '80', 'one', '3', 'One', '5', 'one', 'half', 'one', 'One', 'more than one', 'one', 'around 2', 'between 3 or 4', '3', '20', 'slightly_smiling_face', 'at least one', 'three', '17', '3', '3', '5', 'three', '3', '1', '1', '1', 'three', '3', 'three', '4', '24', 'two', 'one', 'One', 'one', 'about 5', 'two', 'three', 'one', 'about two', 'two', '11', 'One', 'one', 'two', 'one', 'two', '3', '5', '2', 'two', 'one', 'one', 'one', 'One', '3', '3', '3', 'one', '3', '1', '1', 'two']\n",
            "EVENT ['Vietnam War', 'the Vietnam-American War of the Indochina War']\n",
            "NORP ['Vietnamese', 'Vietnamese', 'Vietnamese', 'Vietnamese', 'Vietnamese', 'Vietnamese', 'Vietnamese', 'French', 'Japanese', 'English', 'Vietnamese', 'Southeast Asian', 'Asian', 'Asians', 'Vietnamese', 'Vietnamese', 'Vietnamese', 'Vietnamese', 'Vietnamese', 'Vietnamese', 'Vietnamese', 'Vietnamese', 'Asian', 'Vietnamese', 'Vietnamese', 'Olympian', 'Vietnamese', 'Vietnamese', 'Vietnamese', 'fuckin', 'Vietnamese', 'Vietnamese', 'Forgiveness', 'Vietnamese', 'Vietnamese', 'Vietnamese', 'vietnamese', 'Vietnamese', 'Vietnamese', 'Nhiều', 'Vietnamese', 'Vietnamese', 'Japanese', 'Vietnamese', 'Vietnamese', 'Vietnamese', 'Vietnamese', 'Vietnamese', 'non-Vietnamese', 'Vietnamese', 'non-Vietnamese', 'Vietnamese', 'Chinese']\n"
          ],
          "name": "stdout"
        }
      ]
    },
    {
      "cell_type": "code",
      "metadata": {
        "id": "ByJ80DhxWNkO",
        "colab_type": "code",
        "colab": {}
      },
      "source": [
        "# ORG, GPE, PERSON, LAW, NORP\n",
        "list_comment_ner_EN = []\n",
        "for key, value in df.items():\n",
        "  if key in ('ORG', 'GPE', 'PERSON', 'LAW', 'NORP'):\n",
        "    for i in value:\n",
        "      list_comment_ner_EN.append(i)\n",
        "\n",
        "list_comment_ner_EN = set(list_comment_ner_EN)\n",
        "list_comment_ner_EN"
      ],
      "execution_count": null,
      "outputs": []
    },
    {
      "cell_type": "code",
      "metadata": {
        "id": "WI0drXCHBOCA",
        "colab_type": "code",
        "colab": {}
      },
      "source": [
        "column_name = ['VI','EN']\n",
        "#export csv\n",
        "pd.DataFrame((list_comment_ner_VI,list_comment_ner_EN),index=column_name).to_csv('name.csv')"
      ],
      "execution_count": null,
      "outputs": []
    },
    {
      "cell_type": "markdown",
      "metadata": {
        "id": "VolFqRdfBSmo",
        "colab_type": "text"
      },
      "source": [
        "Note: Open file `name.csv` and manually delete wrong words"
      ]
    },
    {
      "cell_type": "markdown",
      "metadata": {
        "id": "p8Kywpy16TMb",
        "colab_type": "text"
      },
      "source": [
        "#Save to database "
      ]
    },
    {
      "cell_type": "code",
      "metadata": {
        "id": "ngpZvkbbJTqQ",
        "colab_type": "code",
        "colab": {}
      },
      "source": [
        "repair_file = open('./name.csv').read()\n",
        "repair_file = repair_file.split(',')\n",
        "repair_file = set(repair_file)"
      ],
      "execution_count": 24,
      "outputs": []
    },
    {
      "cell_type": "code",
      "metadata": {
        "id": "f6uSAfM04mr5",
        "colab_type": "code",
        "colab": {}
      },
      "source": [
        "try:\n",
        "  dropStmt = ibm_db.exec_immediate(conn,'drop table Name')\n",
        "except:\n",
        "  print('Not exist')\n",
        "createStmt = ibm_db.exec_immediate(conn,'create table Name(name_value clob)')"
      ],
      "execution_count": 36,
      "outputs": []
    },
    {
      "cell_type": "code",
      "metadata": {
        "id": "X50yNN5g4MNk",
        "colab_type": "code",
        "colab": {}
      },
      "source": [
        "insertSQL = \"insert into Name(name_value) values ('{}')\"\n",
        "new_file = []\n",
        "for i in repair_file:\n",
        "  if i != '':\n",
        "    insertStmt = ibm_db.exec_immediate(conn,insertSQL.format(i.replace(\"'\",\"''\")))"
      ],
      "execution_count": 37,
      "outputs": []
    },
    {
      "cell_type": "code",
      "metadata": {
        "id": "SNSRHg7b4OHj",
        "colab_type": "code",
        "colab": {}
      },
      "source": [
        "selectStmt = ibm_db.exec_immediate(conn,'select * from Name')\n",
        "\n",
        "name_value = {'name':[]}\n",
        "while ibm_db.fetch_row(selectStmt):\n",
        "  name_value['name'].append(ibm_db.result(selectStmt,0))"
      ],
      "execution_count": 43,
      "outputs": []
    },
    {
      "cell_type": "code",
      "metadata": {
        "id": "JSfJJMP--yCa",
        "colab_type": "code",
        "colab": {}
      },
      "source": [
        "import pandas as pd\n",
        "\n",
        "ex = pd.DataFrame(name_value).to_csv('name.csv',index=False)"
      ],
      "execution_count": 46,
      "outputs": []
    },
    {
      "cell_type": "code",
      "metadata": {
        "id": "-EiLjEHe_xjm",
        "colab_type": "code",
        "colab": {}
      },
      "source": [
        ""
      ],
      "execution_count": null,
      "outputs": []
    }
  ]
}